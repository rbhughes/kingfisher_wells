{
 "cells": [
  {
   "cell_type": "markdown",
   "metadata": {
    "application/vnd.databricks.v1+cell": {
     "cellMetadata": {
      "byteLimit": 2048000,
      "rowLimit": 10000
     },
     "inputWidgets": {},
     "nuid": "689832e8-949a-4226-a5f6-3c6c80d59e06",
     "showTitle": false,
     "tableResultSettingsMap": {},
     "title": ""
    }
   },
   "source": [
    "## Kingfisher County Well Header Locations\n",
    "#### Comparing Vendors With Databricks Geospatial\n",
    "\n",
    "Oil and Gas companies in the United States generally obtain data used by geoscientists from a few vendors. Many states also provide data that may be slightly more current.\n",
    "\n",
    "Which vendor has more data? Is the data identical among vendors? Which data source is the _best_ and what does that even mean? We're not going to answer most of those questions! \uD83D\uDE02\n",
    "\n",
    "This exercise just compares well surface locations (Lat/Lon) in busy [Kingfisher County](https://kingfisher.okcounties.org/about), Oklahoma.\n",
    "\n",
    "The two biggest E&P data vendors in the U.S. are: \n",
    "\n",
    "| ||\n",
    "| ----------- | ----------- |\n",
    "| [S&P Global](https://www.spglobal.com/commodity-insights/en/products-solutions/upstream-midstream-oil-gas) | The large incumbent, supplying data to the industry for decades |\n",
    "| [Enverus](https://www.enverus.com/products/enverus-core/) | A fast-growing, SAAS challenger |\n",
    "\n",
    "_Both of these vendors have grown through multiple acquisitions; many private equity deals led to their present incarnations. You may have heard of PI/Dwights, IHS, Drilling Info..._\n",
    "\n",
    "We are targeting Kingfisher County in Oklahoma, so we'll include data from the [OCC](https://gisdata-occokc.opendata.arcgis.com/) (Oklahoma Corporation Commission).\n",
    "\n",
    "\n",
    "This seemingly simple exercise reveals more complexity than you might think. First, [what is a well](https://ppdm.org/ppdm/PPDM/Standards/What_is_a_Well/PPDM/What_is_a_Well.aspx)? Nobody agrees on common identifiers. How does the Geodetic datum affect lat/lon points? Hopefully the [Streamlit](https://streamlit.io/) map will help clarify things.\n",
    "\n",
    "\n",
    "\n",
    "\n"
   ]
  },
  {
   "cell_type": "code",
   "execution_count": 0,
   "metadata": {
    "application/vnd.databricks.v1+cell": {
     "cellMetadata": {
      "byteLimit": 2048000,
      "rowLimit": 10000
     },
     "inputWidgets": {},
     "nuid": "9823d13d-f36b-49a7-9df5-a6482bbb0988",
     "showTitle": false,
     "tableResultSettingsMap": {},
     "title": ""
    }
   },
   "outputs": [],
   "source": [
    "\n",
    "def make_csv_path(county=\"kingfisher\", vendor=\"\"):\n",
    "    catalog  = \"geodata\"\n",
    "    schema   = \"staging\"\n",
    "    volume   = \"raw\"\n",
    "    file     = f\"{county.lower()}_well_header_{vendor.lower()}.csv\"\n",
    "\n",
    "    csv_path = f\"/Volumes/{catalog}/{schema}/{volume}/{file}\"\n",
    "    return csv_path"
   ]
  },
  {
   "cell_type": "code",
   "execution_count": 0,
   "metadata": {
    "application/vnd.databricks.v1+cell": {
     "cellMetadata": {
      "byteLimit": 2048000,
      "implicitDf": true,
      "rowLimit": 10000
     },
     "inputWidgets": {},
     "nuid": "a8ce7293-2005-481c-afd0-1baa54666055",
     "showTitle": false,
     "tableResultSettingsMap": {},
     "title": ""
    }
   },
   "outputs": [],
   "source": [
    "%sql\n",
    "CREATE SCHEMA IF NOT EXISTS geodata.bronze;\n",
    "\n",
    "DROP TABLE IF EXISTS geodata.bronze.well_header_occ;\n",
    "DROP TABLE IF EXISTS geodata.bronze.well_header_sp;\n",
    "DROP TABLE IF EXISTS geodata.bronze.well_header_env;"
   ]
  },
  {
   "cell_type": "markdown",
   "metadata": {
    "application/vnd.databricks.v1+cell": {
     "cellMetadata": {
      "byteLimit": 2048000,
      "rowLimit": 10000
     },
     "inputWidgets": {},
     "nuid": "3bbbc002-4565-4b18-bd3c-6d169adae69b",
     "showTitle": false,
     "tableResultSettingsMap": {},
     "title": ""
    }
   },
   "source": [
    "## OCC (Oklahoma Corporation Commission)\n",
    "#### Live CSV download using ArcGIS Online REST API\n",
    "The OCC has a pretty robust (and free) ESRI ArcGIS Online site that allows REST queries. We limit the query to just \"KINGFISHER\" county and grab all available fields in 2000-row chunks. Data is written to our previously defined S3 external data source.\n",
    "\n",
    "**Latitude/Longitude is stored in WGS84 (SRID=4326)**"
   ]
  },
  {
   "cell_type": "code",
   "execution_count": 0,
   "metadata": {
    "application/vnd.databricks.v1+cell": {
     "cellMetadata": {
      "byteLimit": 2048000,
      "rowLimit": 10000
     },
     "inputWidgets": {},
     "nuid": "79c7046f-efff-430c-90a3-24edc8c7bd8f",
     "showTitle": false,
     "tableResultSettingsMap": {},
     "title": ""
    }
   },
   "outputs": [],
   "source": [
    "import requests\n",
    "import pandas as pd\n",
    "\n",
    "\n",
    "OCC_URL = \"https://gis.occ.ok.gov/server/rest/services/Hosted/RBDMS_WELLS/FeatureServer/220/query\"\n",
    "\n",
    "\n",
    "def _query_arcgis(county: str) -> pd.DataFrame | None:\n",
    "    params = {\n",
    "        \"where\": f\"county='{county.upper()}'\",\n",
    "        \"outFields\": \"*\",\n",
    "        \"returnGeometry\": \"false\",\n",
    "        \"f\": \"json\",\n",
    "        \"resultOffset\": 0,\n",
    "        \"resultRecordCount\": 2000,  # 2_000\n",
    "    }\n",
    "\n",
    "    rows = []\n",
    "    while True:\n",
    "        print(f\"Fetching offset {params['resultOffset']} …\")\n",
    "        data = requests.get(OCC_URL, params=params).json()\n",
    "        if data.get(\"error\"):\n",
    "            print(\"Error received from server:\", data[\"error\"])\n",
    "            return None\n",
    "\n",
    "        features = data.get(\"features\", [])\n",
    "        if not features:\n",
    "            break\n",
    "\n",
    "        rows.extend(f[\"attributes\"] for f in features)\n",
    "        if len(features) < params[\"resultRecordCount\"]:\n",
    "            break\n",
    "        params[\"resultOffset\"] += params[\"resultRecordCount\"]\n",
    "\n",
    "    return pd.DataFrame.from_records(rows) if rows else None\n",
    "\n",
    "\n",
    "def get_occ_well_header_by_county(county=\"kingfisher\") -> str | None:\n",
    "    volume_path = make_csv_path(county=county, vendor=\"occ\")\n",
    "\n",
    "    df = _query_arcgis(county)\n",
    "\n",
    "    if df is None or df.empty:\n",
    "        print(f\"⚠ No data found for {county} county.\")\n",
    "        return None\n",
    "\n",
    "    df.to_csv(volume_path, index=False)\n",
    "\n",
    "    return f\"✅ {len(df)} records written to {volume_path}\"\n",
    "\n",
    "\n",
    "result = get_occ_well_header_by_county(county=\"kingfisher\")\n",
    "print(result)"
   ]
  },
  {
   "cell_type": "code",
   "execution_count": 0,
   "metadata": {
    "application/vnd.databricks.v1+cell": {
     "cellMetadata": {
      "byteLimit": 2048000,
      "implicitDf": true,
      "rowLimit": 10000
     },
     "inputWidgets": {},
     "nuid": "8883ccc9-af2c-420b-9375-e4c92acbb706",
     "showTitle": false,
     "tableResultSettingsMap": {},
     "title": ""
    }
   },
   "outputs": [],
   "source": [
    "%sql\n",
    "CREATE SCHEMA IF NOT EXISTS geodata.bronze;\n",
    "\n",
    "CREATE TABLE IF NOT EXISTS geodata.bronze.well_header_occ\n",
    "USING DELTA\n",
    "TBLPROPERTIES ('delta.columnMapping.mode' = 'name'); \n",
    "\n",
    "COPY INTO geodata.bronze.well_header_occ\n",
    "FROM 's3://databricks-purrio/raw/kingfisher_well_header_occ.csv' \n",
    "FILEFORMAT = CSV \n",
    "FORMAT_OPTIONS ('header' = 'true', 'inferSchema' = 'true') \n",
    "COPY_OPTIONS ('mergeSchema' = 'true');"
   ]
  },
  {
   "cell_type": "code",
   "execution_count": 0,
   "metadata": {
    "application/vnd.databricks.v1+cell": {
     "cellMetadata": {},
     "inputWidgets": {},
     "nuid": "217cd236-ca9f-4c4e-953d-3e32c77affdc",
     "showTitle": true,
     "tableResultSettingsMap": {},
     "title": ""
    }
   },
   "outputs": [],
   "source": []
  },
  {
   "cell_type": "markdown",
   "metadata": {
    "application/vnd.databricks.v1+cell": {
     "cellMetadata": {
      "byteLimit": 2048000,
      "rowLimit": 10000
     },
     "inputWidgets": {},
     "nuid": "27d4d455-fe27-47ed-b1c3-4984977f28cf",
     "showTitle": false,
     "tableResultSettingsMap": {},
     "title": ""
    }
   },
   "source": [
    "## Enverus \n",
    "#### Live CSV download using Enverus Developer API\n",
    "Enverus has a great, massive, swagger-defined Python. We use a secret key stored using the local databricks cli:\n",
    "\n",
    "--\n",
    "```\n",
    "databricks secrets create-scope kingfisher_secrets\n",
    "databricks secrets put-secret kingfisher_secrets enverus_secret_key\n",
    "```\n",
    "\n",
    "**Latitude/Longitude is stored in WGS84 (SRID=4326)**"
   ]
  },
  {
   "cell_type": "code",
   "execution_count": 0,
   "metadata": {
    "application/vnd.databricks.v1+cell": {
     "cellMetadata": {
      "byteLimit": 2048000,
      "rowLimit": 10000
     },
     "inputWidgets": {},
     "nuid": "3274b053-cfb7-4e4c-b8d0-4b0af08a1619",
     "showTitle": false,
     "tableResultSettingsMap": {},
     "title": ""
    }
   },
   "outputs": [],
   "source": [
    "%pip install -q enverus-developer-api\n",
    "\n",
    "from enverus_developer_api import DeveloperAPIv3\n",
    "import pandas as pd\n",
    "import json\n",
    "\n",
    "SECRET_KEY = dbutils.secrets.get(scope=\"kingfisher_secrets\", key=\"enverus_secret_key\")\n",
    "STATE = \"OK\"\n",
    "\n",
    "v3 = DeveloperAPIv3(secret_key=SECRET_KEY)\n",
    "\n",
    "def get_enverus_well_header_by_county(county=\"kingfisher\") -> str | None:\n",
    "    volume_path = make_csv_path(county=county, vendor=\"enverus\")\n",
    "\n",
    "    records = []\n",
    "    query = v3.query(\"well-headers\", StateProvince=STATE, County=county.upper())\n",
    "\n",
    "    for i, record in enumerate(query, start=1):\n",
    "        records.append(record)\n",
    "\n",
    "    df = pd.DataFrame.from_records(records)\n",
    "\n",
    "    df.to_csv(volume_path, index=False)\n",
    "    return f\"✅ {len(df)} records written to '{volume_path}\"\n",
    "\n",
    "\n",
    "result = get_enverus_well_header_by_county(county=\"kingfisher\")\n",
    "print(result)"
   ]
  },
  {
   "cell_type": "code",
   "execution_count": 0,
   "metadata": {
    "application/vnd.databricks.v1+cell": {
     "cellMetadata": {
      "byteLimit": 2048000,
      "implicitDf": true,
      "rowLimit": 10000
     },
     "inputWidgets": {},
     "nuid": "8b0a1577-2a94-43cb-a528-c404464c8dc1",
     "showTitle": false,
     "tableResultSettingsMap": {},
     "title": ""
    }
   },
   "outputs": [],
   "source": [
    "%sql\n",
    "CREATE SCHEMA IF NOT EXISTS geodata.bronze;\n",
    "\n",
    "CREATE TABLE IF NOT EXISTS geodata.bronze.well_header_env\n",
    "USING DELTA\n",
    "TBLPROPERTIES ('delta.columnMapping.mode' = 'name'); \n",
    "\n",
    "COPY INTO geodata.bronze.well_header_env\n",
    "FROM 's3://databricks-purrio/raw/kingfisher_well_header_enverus.csv' \n",
    "FILEFORMAT = CSV \n",
    "FORMAT_OPTIONS ('header' = 'true', 'inferSchema' = 'true') \n",
    "COPY_OPTIONS ('mergeSchema' = 'true');"
   ]
  },
  {
   "cell_type": "markdown",
   "metadata": {
    "application/vnd.databricks.v1+cell": {
     "cellMetadata": {
      "byteLimit": 2048000,
      "rowLimit": 10000
     },
     "inputWidgets": {},
     "nuid": "49dc490b-03ac-4b9d-a3c1-5be41f6aed26",
     "showTitle": false,
     "tableResultSettingsMap": {},
     "title": ""
    }
   },
   "source": [
    "## S&P Global \n",
    "#### CSV download via well header report from Enerdeq (NOT LIVE).\n",
    "\n",
    "Sorry, I don't have API credentials for this one. The S&P Global Web Services platform is vast and has undergone multiple generations. It's not quite as \"modern\" as Enverus. Note that in the U.S. data is still delivered using NAD27. This is a relic from pre-internet days when data was shipped to clients on DVDs!\n",
    "\n",
    "Also, the S&P Well Header report format has spaces in the column headers. Normally this would cause a `DELTA_INVALID_CHARACTERS_IN_COLUMN_NAMES` error in SQL. You can permit the spaces using this option:\n",
    "`TBLPROPERTIES ('delta.columnMapping.mode' = 'name');`\n",
    "\n",
    "**Latitude/Longitude is stored in NAD27 (SRID=4267)**"
   ]
  },
  {
   "cell_type": "code",
   "execution_count": 0,
   "metadata": {
    "application/vnd.databricks.v1+cell": {
     "cellMetadata": {
      "byteLimit": 2048000,
      "implicitDf": true,
      "rowLimit": 10000
     },
     "inputWidgets": {},
     "nuid": "f4162998-a48f-4230-b148-354281901fc1",
     "showTitle": false,
     "tableResultSettingsMap": {},
     "title": ""
    }
   },
   "outputs": [],
   "source": [
    "%sql\n",
    "CREATE SCHEMA IF NOT EXISTS geodata.bronze;\n",
    "\n",
    "CREATE TABLE IF NOT EXISTS geodata.bronze.well_header_sp\n",
    "USING DELTA\n",
    "TBLPROPERTIES ('delta.columnMapping.mode' = 'name'); \n",
    "\n",
    "COPY INTO geodata.bronze.well_header_sp\n",
    "FROM 's3://databricks-purrio/raw/kingfisher_well_header_sp.csv' \n",
    "FILEFORMAT = CSV \n",
    "FORMAT_OPTIONS ('header' = 'true', 'inferSchema' = 'true') \n",
    "COPY_OPTIONS ('mergeSchema' = 'true');"
   ]
  },
  {
   "cell_type": "code",
   "execution_count": 0,
   "metadata": {
    "application/vnd.databricks.v1+cell": {
     "cellMetadata": {
      "byteLimit": 2048000,
      "rowLimit": 10000
     },
     "inputWidgets": {},
     "nuid": "cca826f2-d557-47eb-acb0-3076cd83a646",
     "showTitle": false,
     "tableResultSettingsMap": {},
     "title": ""
    }
   },
   "outputs": [],
   "source": [
    "# Alternatively, use this spark-based import to replaces spaces with underscores\n",
    "\n",
    "# df = spark.read.format(\"csv\") \\\n",
    "#     .option(\"header\", \"true\") \\\n",
    "#     .option(\"inferSchema\", \"true\") \\\n",
    "#     .load(\"s3://databricks-purrio/raw/kingfisher_well_header_sp.csv\")\n",
    "\n",
    "# for col in df.columns:\n",
    "#     df = df.withColumnRenamed(col, col.replace(\" \", \"_\"))\n",
    "\n",
    "# df.write.format(\"delta\") \\\n",
    "#     .option(\"mergeSchema\", \"true\") \\\n",
    "#     .mode(\"overwrite\") \\\n",
    "#     .saveAsTable(\"geodata.bronze.well_header_sp\")\n"
   ]
  },
  {
   "cell_type": "markdown",
   "metadata": {
    "application/vnd.databricks.v1+cell": {
     "cellMetadata": {
      "byteLimit": 2048000,
      "rowLimit": 10000
     },
     "inputWidgets": {},
     "nuid": "1c105b86-61f3-49e9-a626-a8590627125a",
     "showTitle": false,
     "tableResultSettingsMap": {},
     "title": ""
    }
   },
   "source": [
    "Sanity check..."
   ]
  },
  {
   "cell_type": "code",
   "execution_count": 0,
   "metadata": {
    "application/vnd.databricks.v1+cell": {
     "cellMetadata": {
      "byteLimit": 2048000,
      "implicitDf": true,
      "rowLimit": 10000
     },
     "inputWidgets": {},
     "nuid": "57c7d196-780f-4010-8fd3-8b8b787e2021",
     "showTitle": false,
     "tableResultSettingsMap": {},
     "title": ""
    }
   },
   "outputs": [],
   "source": [
    "%sql\n",
    "SHOW TABlES IN geodata.bronze;"
   ]
  },
  {
   "cell_type": "code",
   "execution_count": 0,
   "metadata": {
    "application/vnd.databricks.v1+cell": {
     "cellMetadata": {
      "byteLimit": 2048000,
      "implicitDf": true,
      "rowLimit": 10000
     },
     "inputWidgets": {},
     "nuid": "6449816f-c509-49a1-ad32-8e89c1cb331a",
     "showTitle": false,
     "tableResultSettingsMap": {},
     "title": ""
    }
   },
   "outputs": [],
   "source": [
    "%sql\n",
    "\n",
    "select 'OCC', count(*) as row_count from geodata.bronze.well_header_occ\n",
    "union\n",
    "select 'S&P', count(*) as row_count from geodata.bronze.well_header_sp\n",
    "union\n",
    "select 'Enverus', count(*) as row_count from geodata.bronze.well_header_env;\n",
    "\n"
   ]
  }
 ],
 "metadata": {
  "application/vnd.databricks.v1+notebook": {
   "computePreferences": null,
   "dashboards": [],
   "environmentMetadata": {
    "base_environment": "",
    "environment_version": "2"
   },
   "inputWidgetPreferences": null,
   "language": "python",
   "notebookMetadata": {
    "mostRecentlyExecutedCommandWithImplicitDF": {
     "commandId": 7311707733906422,
     "dataframes": [
      "_sqldf"
     ]
    },
    "pythonIndentUnit": 4
   },
   "notebookName": "bronze",
   "widgets": {}
  },
  "language_info": {
   "name": "python"
  }
 },
 "nbformat": 4,
 "nbformat_minor": 0
}