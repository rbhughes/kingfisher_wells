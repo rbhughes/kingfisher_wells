{
 "cells": [
  {
   "cell_type": "markdown",
   "metadata": {
    "application/vnd.databricks.v1+cell": {
     "cellMetadata": {
      "byteLimit": 2048000,
      "rowLimit": 10000
     },
     "inputWidgets": {},
     "nuid": "356c7843-4124-48eb-9798-1583001c5c3c",
     "showTitle": false,
     "tableResultSettingsMap": {},
     "title": ""
    }
   },
   "source": [
    "\n",
    "# Overview\n"
   ]
  },
  {
   "cell_type": "code",
   "execution_count": 0,
   "metadata": {
    "application/vnd.databricks.v1+cell": {
     "cellMetadata": {
      "byteLimit": 2048000,
      "implicitDf": true,
      "rowLimit": 10000
     },
     "inputWidgets": {},
     "nuid": "360ed081-7f8a-4961-8db1-98fc42cd7be7",
     "showTitle": false,
     "tableResultSettingsMap": {},
     "title": ""
    }
   },
   "outputs": [],
   "source": [
    "%sql\n",
    "CREATE SCHEMA IF NOT EXISTS geodata.silver;\n",
    "\n",
    "DROP TABLE IF EXISTS geodata.silver.well_header_occ;\n",
    "DROP TABLE IF EXISTS geodata.silver.well_header_sp;\n",
    "DROP TABLE IF EXISTS geodata.silver.well_header_env;"
   ]
  },
  {
   "cell_type": "code",
   "execution_count": 0,
   "metadata": {
    "application/vnd.databricks.v1+cell": {
     "cellMetadata": {
      "byteLimit": 2048000,
      "rowLimit": 10000
     },
     "inputWidgets": {},
     "nuid": "a837561b-0584-4d22-bae1-20230a083c58",
     "showTitle": false,
     "tableResultSettingsMap": {},
     "title": ""
    }
   },
   "outputs": [],
   "source": [
    "from pyspark.sql.functions import col, lit, concat, expr, coalesce, current_timestamp\n"
   ]
  },
  {
   "cell_type": "markdown",
   "metadata": {
    "application/vnd.databricks.v1+cell": {
     "cellMetadata": {
      "byteLimit": 2048000,
      "rowLimit": 10000
     },
     "inputWidgets": {},
     "nuid": "72f0be14-9f44-4ad3-a5b5-7eb2f8796238",
     "showTitle": false,
     "tableResultSettingsMap": {},
     "title": ""
    }
   },
   "source": [
    "# OCC"
   ]
  },
  {
   "cell_type": "code",
   "execution_count": 0,
   "metadata": {
    "application/vnd.databricks.v1+cell": {
     "cellMetadata": {
      "byteLimit": 2048000,
      "rowLimit": 10000
     },
     "inputWidgets": {},
     "nuid": "7a13f980-836b-46a0-8e60-af82c7af5466",
     "showTitle": false,
     "tableResultSettingsMap": {},
     "title": ""
    }
   },
   "outputs": [],
   "source": [
    "bronze_df = spark.table(\"geodata.bronze.well_header_occ\")\n",
    "\n",
    "SRID = 4326 # WGS84\n",
    "\n",
    "occ_df = (\n",
    "    bronze_df.select(\n",
    "        col('api').alias('uwi_10').cast('string'),\n",
    "        concat(col('api').cast('string'), lit('0000')).alias('uwi_14'),\n",
    "        col('sh_lat').alias('surface_latitude'),\n",
    "        col('sh_lon').alias('surface_longitude'),\n",
    "        expr(f\"ST_POINT(sh_lon, sh_lat, {SRID})\").alias('geom'),\n",
    "        col('county').alias('county'),\n",
    "        col('operator').alias('operator'),\n",
    "        col('well_name').alias('well_name'),\n",
    "        col('well_num').alias('well_number'),\n",
    "        col('wellstatus').alias('well_status'),\n",
    "        lit('OCC').alias('vendor'),\n",
    "        current_timestamp().alias('row_created') \n",
    "    )\n",
    ")\n",
    "\n",
    "occ_df.write.format('delta').mode('overwrite').saveAsTable(\"geodata.silver.well_header_occ\")"
   ]
  },
  {
   "cell_type": "markdown",
   "metadata": {
    "application/vnd.databricks.v1+cell": {
     "cellMetadata": {
      "byteLimit": 2048000,
      "rowLimit": 10000
     },
     "inputWidgets": {},
     "nuid": "5caa2ff2-1feb-4f10-91a7-3914c30b79ec",
     "showTitle": false,
     "tableResultSettingsMap": {},
     "title": ""
    }
   },
   "source": [
    "# Enverus"
   ]
  },
  {
   "cell_type": "code",
   "execution_count": 0,
   "metadata": {
    "application/vnd.databricks.v1+cell": {
     "cellMetadata": {
      "byteLimit": 2048000,
      "rowLimit": 10000
     },
     "inputWidgets": {},
     "nuid": "c2f65646-edfe-4a64-baf8-b5be3807eda7",
     "showTitle": false,
     "tableResultSettingsMap": {},
     "title": ""
    }
   },
   "outputs": [],
   "source": [
    "bronze_df = spark.table(\"geodata.bronze.well_header_env\")\n",
    "\n",
    "SRID = 4326 # WGS84\n",
    "\n",
    "env_df = (\n",
    "    bronze_df.select(\n",
    "        col('API_UWI_Unformatted').alias('uwi_10').cast('string'),\n",
    "        concat(col('API_UWI_Unformatted').cast('string'), lit('0000')).alias('uwi_14'),\n",
    "        col('Latitude').alias('surface_latitude'),\n",
    "        col('Longitude').alias('surface_longitude'),\n",
    "        expr(f\"ST_POINT(Longitude, Latitude, {SRID})\").alias('geom'),\n",
    "        col('County').alias('county'),\n",
    "        col('ENVOperator').alias('operator'),\n",
    "        col('WellName').alias('well_name'),\n",
    "        col('WellNumber').alias('well_number'),\n",
    "        col('ENVWellStatus').alias('well_status'),\n",
    "        lit('ENV').alias('vendor'),\n",
    "        current_timestamp().alias('row_created') \n",
    "    )\n",
    ")\n",
    "\n",
    "env_df.write.format('delta').mode('overwrite').saveAsTable(\"geodata.silver.well_header_env\")"
   ]
  },
  {
   "cell_type": "markdown",
   "metadata": {
    "application/vnd.databricks.v1+cell": {
     "cellMetadata": {
      "byteLimit": 2048000,
      "rowLimit": 10000
     },
     "inputWidgets": {},
     "nuid": "c3ec1448-bd7a-4c8a-a26c-c80aa816a08e",
     "showTitle": false,
     "tableResultSettingsMap": {},
     "title": ""
    }
   },
   "source": [
    "# S&P"
   ]
  },
  {
   "cell_type": "code",
   "execution_count": 0,
   "metadata": {
    "application/vnd.databricks.v1+cell": {
     "cellMetadata": {
      "byteLimit": 2048000,
      "rowLimit": 10000
     },
     "inputWidgets": {},
     "nuid": "7e271534-3faa-4dd4-8bdd-bf523178013d",
     "showTitle": false,
     "tableResultSettingsMap": {},
     "title": ""
    }
   },
   "outputs": [],
   "source": [
    "\n",
    "bronze_df = spark.table(\"geodata.bronze.well_header_sp\")\n",
    "\n",
    "ORIG_SRID = 4276 # NAD27\n",
    "\n",
    "sp_df = (\n",
    "    bronze_df.select(\n",
    "        coalesce(col('Regulatory API'), expr(\"substring(API, 1, length(API) - 4)\")).alias('uwi_10'),\n",
    "        col('API').alias('uwi_14'),\n",
    "        col('Latitude').alias('surface_latitude'),\n",
    "        col('Longitude').alias('surface_longitude'),\n",
    "        expr(f\"ST_TRANSFORM(ST_POINT(Longitude, Latitude, {ORIG_SRID}), 4326)\").alias('geom'),\n",
    "        col('County Name').alias('county'),\n",
    "        col('Current Operator').alias('operator'),\n",
    "        col('Lease Name').alias('well_name'),\n",
    "        col('Well Num').alias('well_number'),\n",
    "        col('Final Status').alias('well_status'),\n",
    "        lit('SP').alias('vendor'),\n",
    "        current_timestamp().alias('row_created') \n",
    "    )\n",
    ")\n",
    "\n",
    "sp_df.write.format('delta').mode('overwrite').saveAsTable(\"geodata.silver.well_header_sp\")"
   ]
  },
  {
   "cell_type": "code",
   "execution_count": 0,
   "metadata": {
    "application/vnd.databricks.v1+cell": {
     "cellMetadata": {
      "byteLimit": 2048000,
      "implicitDf": true,
      "rowLimit": 10000
     },
     "inputWidgets": {},
     "nuid": "09107377-e5ca-4341-9d4d-8a8c0827ac1f",
     "showTitle": false,
     "tableResultSettingsMap": {},
     "title": ""
    }
   },
   "outputs": [],
   "source": [
    "%sql\n",
    "SHOW TABLES IN geodata.silver"
   ]
  }
 ],
 "metadata": {
  "application/vnd.databricks.v1+notebook": {
   "computePreferences": null,
   "dashboards": [],
   "environmentMetadata": {
    "base_environment": "",
    "environment_version": "2"
   },
   "inputWidgetPreferences": null,
   "language": "python",
   "notebookMetadata": {
    "mostRecentlyExecutedCommandWithImplicitDF": {
     "commandId": 6155427285042594,
     "dataframes": [
      "_sqldf"
     ]
    },
    "pythonIndentUnit": 4
   },
   "notebookName": "silver",
   "widgets": {}
  },
  "language_info": {
   "name": "python"
  }
 },
 "nbformat": 4,
 "nbformat_minor": 0
}