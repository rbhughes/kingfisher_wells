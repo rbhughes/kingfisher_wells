{
 "cells": [
  {
   "cell_type": "code",
   "execution_count": 0,
   "metadata": {
    "application/vnd.databricks.v1+cell": {
     "cellMetadata": {},
     "inputWidgets": {},
     "nuid": "356c7843-4124-48eb-9798-1583001c5c3c",
     "showTitle": false,
     "tableResultSettingsMap": {},
     "title": ""
    }
   },
   "outputs": [],
   "source": [
    "%sql\n",
    "select * from geodata.bronze.well_header_occ;"
   ]
  },
  {
   "cell_type": "code",
   "execution_count": 0,
   "metadata": {
    "application/vnd.databricks.v1+cell": {
     "cellMetadata": {
      "byteLimit": 2048000,
      "rowLimit": 10000
     },
     "inputWidgets": {},
     "nuid": "7a13f980-836b-46a0-8e60-af82c7af5466",
     "showTitle": false,
     "tableResultSettingsMap": {
      "0": {
       "dataGridStateBlob": "{\"version\":1,\"tableState\":{\"columnPinning\":{\"left\":[\"#row_number#\"],\"right\":[]},\"columnSizing\":{},\"columnVisibility\":{}},\"settings\":{\"columns\":{}},\"syncTimestamp\":1753928203152}",
       "filterBlob": null,
       "queryPlanFiltersBlob": null,
       "tableResultIndex": 0
      }
     },
     "title": ""
    }
   },
   "outputs": [],
   "source": [
    "from pyspark.sql.functions import col, lit, concat, expr\n",
    "\n",
    "bronze_df = spark.table(\"geodata.bronze.well_header_occ\")\n",
    "\n",
    "srid = 4326 # WGS84\n",
    "\n",
    "silver_df = (\n",
    "    bronze_df.select(\n",
    "        col('api').alias('uwi_10').cast('string'),\n",
    "        concat(col('api').cast('string'), lit('0000')).alias('uwi_14'),\n",
    "        col('sh_lat').alias('surface_latitude'),\n",
    "        col('sh_lon').alias('surface_longitude'),\n",
    "        expr(f\"ST_POINT(sh_lon, sh_lat, {srid})\").alias('geom'),\n",
    "        col('county').alias('county'),\n",
    "        col('operator').alias('operator'),\n",
    "        col('well_name').alias('well_name'),\n",
    "        col('well_num').alias('well_number'),\n",
    "        col('wellstatus').alias('well_status'),\n",
    "    )\n",
    ")\n",
    "# display(bronze_df)\n",
    "# display(silver_df.where(silver_df.uwi_10 == '3507324592'))\n",
    "\n",
    "display(silver_df)\n"
   ]
  },
  {
   "cell_type": "code",
   "execution_count": 0,
   "metadata": {
    "application/vnd.databricks.v1+cell": {
     "cellMetadata": {
      "byteLimit": 2048000,
      "rowLimit": 10000
     },
     "inputWidgets": {},
     "nuid": "7e271534-3faa-4dd4-8bdd-bf523178013d",
     "showTitle": false,
     "tableResultSettingsMap": {
      "0": {
       "dataGridStateBlob": "{\"version\":1,\"tableState\":{\"columnPinning\":{\"left\":[\"#row_number#\"],\"right\":[]},\"columnSizing\":{},\"columnVisibility\":{}},\"settings\":{\"columns\":{}},\"syncTimestamp\":1753910350632}",
       "filterBlob": null,
       "queryPlanFiltersBlob": null,
       "tableResultIndex": 0
      }
     },
     "title": ""
    }
   },
   "outputs": [],
   "source": [
    "from pyspark.sql.functions import col, lit, concat, expr, coalesce\n",
    "\n",
    "bronze_df = spark.table(\"geodata.bronze.well_header_sp\")\n",
    "# xdf = bronze_df.filter(bronze_df.UWI != bronze_df.API) # zero returned\n",
    "\n",
    "srid = 4276 # NAD27\n",
    "\n",
    "silver_df = (\n",
    "    bronze_df.select(\n",
    "        coalesce(col('Regulatory API'), expr(\"substring(API, 1, length(API) - 4)\")).alias('uwi_10'),\n",
    "        col('API').alias('uwi_14'),\n",
    "        col('Latitude').alias('surface_latitude'),\n",
    "        col('Longitude').alias('surface_longitude'),\n",
    "        expr(f\"ST_POINT(Longitude, Latitude, {srid})\").alias('geom'),\n",
    "        col('County Name').alias('county'),\n",
    "        col('Current Operator').alias('operator'),\n",
    "        col('Lease Name').alias('well_name'),\n",
    "        col('Well Num').alias('well_number'),\n",
    "        col('Final Status').alias('well_status'),\n",
    "    )\n",
    ")\n",
    "\n",
    "#display(bronze_df)\n",
    "#display(bronze_df.where(bronze_df[\"Regulatory API\"] == '3507324592'))\n",
    "#display(silver_df.where(silver_df.uwi_10 == '3507324592'))\n",
    "\n",
    "display(silver_df)"
   ]
  },
  {
   "cell_type": "code",
   "execution_count": 0,
   "metadata": {
    "application/vnd.databricks.v1+cell": {
     "cellMetadata": {
      "byteLimit": 2048000,
      "rowLimit": 10000
     },
     "inputWidgets": {},
     "nuid": "c2f65646-edfe-4a64-baf8-b5be3807eda7",
     "showTitle": false,
     "tableResultSettingsMap": {
      "0": {
       "dataGridStateBlob": "{\"version\":1,\"tableState\":{\"columnPinning\":{\"left\":[\"#row_number#\"],\"right\":[]},\"columnSizing\":{},\"columnVisibility\":{}},\"settings\":{\"columns\":{}},\"syncTimestamp\":1753928753906}",
       "filterBlob": null,
       "queryPlanFiltersBlob": null,
       "tableResultIndex": 0
      },
      "1": {
       "dataGridStateBlob": "{\"version\":1,\"tableState\":{\"columnPinning\":{\"left\":[\"#row_number#\"],\"right\":[]},\"columnSizing\":{},\"columnVisibility\":{}},\"settings\":{\"columns\":{}},\"syncTimestamp\":1753928875241}",
       "filterBlob": null,
       "queryPlanFiltersBlob": null,
       "tableResultIndex": 1
      }
     },
     "title": ""
    }
   },
   "outputs": [],
   "source": [
    "from pyspark.sql.functions import col, lit, concat, expr, coalesce\n",
    "\n",
    "bronze_df = spark.table(\"geodata.bronze.well_header_enverus\")\n",
    "\n",
    "srid = 4326 # WGS84\n",
    "\n",
    "silver_df = (\n",
    "    bronze_df.select(\n",
    "        col('API_UWI_Unformatted').alias('uwi_10').cast('string'),\n",
    "        #concat(col('api').cast('string'), lit('0000')).alias('uwi_14'),\n",
    "        col('Latitude').alias('surface_latitude'),\n",
    "        col('Longitude').alias('surface_longitude'),\n",
    "        expr(f\"ST_POINT(Longitude, Latitude, {srid})\").alias('geom'),\n",
    "        col('County').alias('county'),\n",
    "        #col('operator').alias('operator'),\n",
    "        col('WellName').alias('well_name'),\n",
    "        col('WellNumber').alias('well_number'),\n",
    "        #col('wellstatus').alias('well_status'),\n",
    "    )\n",
    ")\n",
    "\n",
    "display(bronze_df)\n",
    "display(silver_df)"
   ]
  }
 ],
 "metadata": {
  "application/vnd.databricks.v1+notebook": {
   "computePreferences": null,
   "dashboards": [],
   "environmentMetadata": {
    "base_environment": "",
    "environment_version": "2"
   },
   "inputWidgetPreferences": null,
   "language": "python",
   "notebookMetadata": {
    "pythonIndentUnit": 4
   },
   "notebookName": "silver",
   "widgets": {}
  },
  "language_info": {
   "name": "python"
  }
 },
 "nbformat": 4,
 "nbformat_minor": 0
}