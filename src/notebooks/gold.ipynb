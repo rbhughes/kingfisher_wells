{
 "cells": [
  {
   "cell_type": "markdown",
   "metadata": {
    "application/vnd.databricks.v1+cell": {
     "cellMetadata": {
      "byteLimit": 2048000,
      "rowLimit": 10000
     },
     "inputWidgets": {},
     "nuid": "6e9fd993-6a38-4851-9f7a-7dbdc2774ea4",
     "showTitle": false,
     "tableResultSettingsMap": {},
     "title": ""
    }
   },
   "source": [
    "# Overview"
   ]
  },
  {
   "cell_type": "code",
   "execution_count": 0,
   "metadata": {
    "application/vnd.databricks.v1+cell": {
     "cellMetadata": {
      "byteLimit": 2048000,
      "implicitDf": true,
      "rowLimit": 10000
     },
     "inputWidgets": {},
     "nuid": "6ee04cfb-93fb-4fe7-95bd-531825d4d026",
     "showTitle": false,
     "tableResultSettingsMap": {},
     "title": ""
    }
   },
   "outputs": [],
   "source": [
    "%sql\n",
    "CREATE SCHEMA IF NOT EXISTS geodata.gold;\n",
    "\n",
    "DROP TABLE IF EXISTS geodata.gold.well_header;"
   ]
  },
  {
   "cell_type": "code",
   "execution_count": 0,
   "metadata": {
    "application/vnd.databricks.v1+cell": {
     "cellMetadata": {
      "byteLimit": 2048000,
      "rowLimit": 10000
     },
     "inputWidgets": {},
     "nuid": "d3f8d702-e7dd-4b55-87b4-e9999ab85ebf",
     "showTitle": false,
     "tableResultSettingsMap": {},
     "title": ""
    }
   },
   "outputs": [],
   "source": [
    "occ_df = spark.table(\"geodata.silver.well_header_occ\")\n",
    "sp_df = spark.table(\"geodata.silver.well_header_sp\")\n",
    "env_df = spark.table(\"geodata.silver.well_header_env\")\n",
    "\n",
    "wh_df = occ_df.unionByName(sp_df).unionByName(env_df)\n",
    "wh_df.write.format(\"delta\").saveAsTable(\"geodata.gold.well_header\")"
   ]
  },
  {
   "cell_type": "code",
   "execution_count": 0,
   "metadata": {
    "application/vnd.databricks.v1+cell": {
     "cellMetadata": {
      "byteLimit": 2048000,
      "implicitDf": true,
      "rowLimit": 10000
     },
     "inputWidgets": {},
     "nuid": "b1d57025-fe14-4fbf-b5f6-a2f1f54434a0",
     "showTitle": false,
     "tableResultSettingsMap": {
      "0": {
       "dataGridStateBlob": "{\"version\":1,\"tableState\":{\"columnPinning\":{\"left\":[\"#row_number#\"],\"right\":[]},\"columnSizing\":{},\"columnVisibility\":{}},\"settings\":{\"columns\":{}},\"syncTimestamp\":1754006355952}",
       "filterBlob": null,
       "queryPlanFiltersBlob": null,
       "tableResultIndex": 0
      }
     },
     "title": ""
    }
   },
   "outputs": [],
   "source": [
    "%sql\n",
    "SHOW TABLES IN geodata.gold;\n"
   ]
  },
  {
   "cell_type": "code",
   "execution_count": 0,
   "metadata": {
    "application/vnd.databricks.v1+cell": {
     "cellMetadata": {
      "byteLimit": 2048000,
      "implicitDf": true,
      "rowLimit": 10000
     },
     "inputWidgets": {},
     "nuid": "83a8ef87-a631-4519-9d2c-50a3d01aa58f",
     "showTitle": false,
     "tableResultSettingsMap": {},
     "title": ""
    }
   },
   "outputs": [],
   "source": [
    "%sql\n",
    "select 'Three-vendor', count(*) as row_count from geodata.gold.well_header"
   ]
  },
  {
   "cell_type": "code",
   "execution_count": 0,
   "metadata": {
    "application/vnd.databricks.v1+cell": {
     "cellMetadata": {
      "byteLimit": 2048000,
      "implicitDf": true,
      "rowLimit": 10000
     },
     "inputWidgets": {},
     "nuid": "a516bd7d-db57-4d60-a72b-030ee4e083e9",
     "showTitle": false,
     "tableResultSettingsMap": {
      "0": {
       "dataGridStateBlob": "{\"version\":1,\"tableState\":{\"columnPinning\":{\"left\":[\"#row_number#\"],\"right\":[]},\"columnSizing\":{},\"columnVisibility\":{}},\"settings\":{\"columns\":{}},\"syncTimestamp\":1754006670700}",
       "filterBlob": null,
       "queryPlanFiltersBlob": null,
       "tableResultIndex": 0
      }
     },
     "title": ""
    }
   },
   "outputs": [],
   "source": [
    "%sql\n",
    "SELECT uwi_10, vendor, geom FROM geodata.gold.well_header\n",
    "ORDER BY uwi_10, vendor"
   ]
  },
  {
   "cell_type": "code",
   "execution_count": 0,
   "metadata": {
    "application/vnd.databricks.v1+cell": {
     "cellMetadata": {
      "byteLimit": 2048000,
      "rowLimit": 10000
     },
     "inputWidgets": {},
     "nuid": "80e62175-b01f-4c5c-a356-9e2999678270",
     "showTitle": false,
     "tableResultSettingsMap": {},
     "title": ""
    }
   },
   "outputs": [],
   "source": [
    "from pyspark.sql.functions import col, when, expr\n",
    "\n",
    "well_header_df = spark.table(\"geodata.gold.well_header\")\n",
    "\n",
    "# Pivot the table wide by vendor:\n",
    "wide_df = (\n",
    "    well_header_df\n",
    "    .groupBy(\"uwi_10\")\n",
    "    .pivot(\"vendor\", [\"ENV\", \"OCC\", \"SP\"])\n",
    "    .agg(expr(\"first(geom)\"))\n",
    "    .withColumnRenamed(\"ENV\", \"geom_ENV\")\n",
    "    .withColumnRenamed(\"OCC\", \"geom_OCC\")\n",
    "    .withColumnRenamed(\"SP\",  \"geom_SP\")\n",
    ")\n",
    "\n",
    "# Compute distances for all available pairs\n",
    "wide_df = wide_df.withColumn(\n",
    "    \"distance_env_occ\",\n",
    "    expr(\"ST_DISTANCESPHEROID(geom_ENV, geom_OCC)\")\n",
    ").withColumn(\n",
    "    \"distance_env_sp\",\n",
    "    expr(\"ST_DISTANCESPHEROID(geom_ENV, geom_SP)\")\n",
    ").withColumn(\n",
    "    \"distance_occ_sp\",\n",
    "    expr(\"ST_DISTANCESPHEROID(geom_OCC, geom_SP)\")\n",
    ")\n",
    "\n",
    "# Filter for at least 2 non-null geoms if desired\n",
    "wide_df = wide_df.filter(\n",
    "    (\n",
    "        (col(\"geom_ENV\").isNotNull() & col(\"geom_OCC\").isNotNull()) |\n",
    "        (col(\"geom_ENV\").isNotNull() & col(\"geom_SP\").isNotNull()) |\n",
    "        (col(\"geom_OCC\").isNotNull() & col(\"geom_SP\").isNotNull())\n",
    "    )\n",
    ")\n",
    "\n",
    "display(wide_df)"
   ]
  },
  {
   "cell_type": "markdown",
   "metadata": {
    "application/vnd.databricks.v1+cell": {
     "cellMetadata": {},
     "inputWidgets": {},
     "nuid": "3e8672ee-c953-494b-a64f-904ddc9795cb",
     "showTitle": false,
     "tableResultSettingsMap": {},
     "title": ""
    }
   },
   "source": [
    "-- Pivot wide\n",
    "SELECT\n",
    "  uwi_10,\n",
    "  MAX(CASE WHEN vendor = 'ENV' THEN geom END) AS geom_env,\n",
    "  MAX(CASE WHEN vendor = 'OCC' THEN geom END) AS geom_occ,\n",
    "  MAX(CASE WHEN vendor = 'SP'  THEN geom END) AS geom_sp\n",
    "FROM your_table\n",
    "GROUP BY uwi_10\n",
    "\n",
    "\n",
    "SELECT\n",
    "  *,\n",
    "  ST_DISTANCE(geom_env, geom_occ) AS distance_env_occ,\n",
    "  ST_DISTANCE(geom_env, geom_sp)  AS distance_env_sp,\n",
    "  ST_DISTANCE(geom_occ, geom_sp)  AS distance_occ_sp\n",
    "FROM pivoted_table\n",
    "WHERE (geom_env IS NOT NULL AND geom_occ IS NOT NULL)\n",
    "   OR (geom_env IS NOT NULL AND geom_sp  IS NOT NULL)\n",
    "   OR (geom_occ IS NOT NULL AND geom_sp  IS NOT NULL)\n"
   ]
  },
  {
   "cell_type": "code",
   "execution_count": 0,
   "metadata": {
    "application/vnd.databricks.v1+cell": {
     "cellMetadata": {
      "byteLimit": 2048000,
      "implicitDf": true,
      "rowLimit": 10000
     },
     "inputWidgets": {},
     "nuid": "d35d6f1c-5027-4260-81d4-3f5a229c12c4",
     "showTitle": false,
     "tableResultSettingsMap": {},
     "title": ""
    }
   },
   "outputs": [],
   "source": [
    "%sql\n",
    "--SELECT ST_DISTANCE_SPHERE(ST_GEOMFROMTEXT('POINT(0 0)'), ST_GEOMFROMTEXT('POINT(1 1)'));\n",
    "SELECT ST_DISTANCESPHEROID(ST_GEOMFROMTEXT('POINT(0 0)'), ST_GEOMFROMTEXT('POINT(1 1)'));\n",
    "--show functions like 'ST_DISTANCE%'"
   ]
  }
 ],
 "metadata": {
  "application/vnd.databricks.v1+notebook": {
   "computePreferences": null,
   "dashboards": [],
   "environmentMetadata": {
    "base_environment": "",
    "environment_version": "2"
   },
   "inputWidgetPreferences": null,
   "language": "python",
   "notebookMetadata": {
    "mostRecentlyExecutedCommandWithImplicitDF": {
     "commandId": 6155427285042626,
     "dataframes": [
      "_sqldf"
     ]
    },
    "pythonIndentUnit": 4
   },
   "notebookName": "gold",
   "widgets": {}
  },
  "language_info": {
   "name": "python"
  }
 },
 "nbformat": 4,
 "nbformat_minor": 0
}