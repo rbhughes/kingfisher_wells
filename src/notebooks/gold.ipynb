{
 "cells": [
  {
   "cell_type": "markdown",
   "metadata": {
    "application/vnd.databricks.v1+cell": {
     "cellMetadata": {},
     "inputWidgets": {},
     "nuid": "6e9fd993-6a38-4851-9f7a-7dbdc2774ea4",
     "showTitle": false,
     "tableResultSettingsMap": {},
     "title": ""
    }
   },
   "source": [
    "## Analyze\n",
    "Merge our data sources and compare the spatial locations."
   ]
  },
  {
   "cell_type": "code",
   "execution_count": 0,
   "metadata": {
    "application/vnd.databricks.v1+cell": {
     "cellMetadata": {
      "byteLimit": 2048000,
      "implicitDf": true,
      "rowLimit": 10000
     },
     "inputWidgets": {},
     "nuid": "6ee04cfb-93fb-4fe7-95bd-531825d4d026",
     "showTitle": false,
     "tableResultSettingsMap": {},
     "title": ""
    }
   },
   "outputs": [],
   "source": [
    "%sql\n",
    "CREATE SCHEMA IF NOT EXISTS geodata.gold;\n",
    "\n",
    "DROP TABLE IF EXISTS geodata.gold.well_header;"
   ]
  },
  {
   "cell_type": "markdown",
   "metadata": {
    "application/vnd.databricks.v1+cell": {
     "cellMetadata": {},
     "inputWidgets": {},
     "nuid": "fedfb2f7-0a89-4f23-bc1c-155a4a904c1c",
     "showTitle": false,
     "tableResultSettingsMap": {},
     "title": ""
    }
   },
   "source": [
    "## Union the tables\n",
    "Combine the three vendor tables into a single `well_header` table. The combined count should be ~28000 in 2025."
   ]
  },
  {
   "cell_type": "code",
   "execution_count": 0,
   "metadata": {
    "application/vnd.databricks.v1+cell": {
     "cellMetadata": {
      "byteLimit": 2048000,
      "rowLimit": 10000
     },
     "inputWidgets": {},
     "nuid": "d3f8d702-e7dd-4b55-87b4-e9999ab85ebf",
     "showTitle": false,
     "tableResultSettingsMap": {},
     "title": ""
    }
   },
   "outputs": [],
   "source": [
    "occ_df = spark.table(\"geodata.silver.well_header_occ\")\n",
    "sp_df = spark.table(\"geodata.silver.well_header_sp\")\n",
    "env_df = spark.table(\"geodata.silver.well_header_env\")\n",
    "\n",
    "wh_df = occ_df.unionByName(sp_df).unionByName(env_df)\n",
    "wh_df.write.format(\"delta\").saveAsTable(\"geodata.gold.well_header\")"
   ]
  },
  {
   "cell_type": "code",
   "execution_count": 0,
   "metadata": {
    "application/vnd.databricks.v1+cell": {
     "cellMetadata": {
      "byteLimit": 2048000,
      "implicitDf": true,
      "rowLimit": 10000
     },
     "inputWidgets": {},
     "nuid": "b1d57025-fe14-4fbf-b5f6-a2f1f54434a0",
     "showTitle": false,
     "tableResultSettingsMap": {
      "0": {
       "dataGridStateBlob": "{\"version\":1,\"tableState\":{\"columnPinning\":{\"left\":[\"#row_number#\"],\"right\":[]},\"columnSizing\":{},\"columnVisibility\":{}},\"settings\":{\"columns\":{}},\"syncTimestamp\":1754006355952}",
       "filterBlob": null,
       "queryPlanFiltersBlob": null,
       "tableResultIndex": 0
      }
     },
     "title": ""
    }
   },
   "outputs": [],
   "source": [
    "%sql\n",
    "SHOW TABLES IN geodata.gold;\n"
   ]
  },
  {
   "cell_type": "code",
   "execution_count": 0,
   "metadata": {
    "application/vnd.databricks.v1+cell": {
     "cellMetadata": {
      "byteLimit": 2048000,
      "implicitDf": true,
      "rowLimit": 10000
     },
     "inputWidgets": {},
     "nuid": "83a8ef87-a631-4519-9d2c-50a3d01aa58f",
     "showTitle": false,
     "tableResultSettingsMap": {},
     "title": ""
    }
   },
   "outputs": [],
   "source": [
    "%sql\n",
    "select count(*) as three_vendor_count from geodata.gold.well_header"
   ]
  },
  {
   "cell_type": "markdown",
   "metadata": {
    "application/vnd.databricks.v1+cell": {
     "cellMetadata": {},
     "inputWidgets": {},
     "nuid": "beb780d8-5836-41ba-aa28-a537fb69feee",
     "showTitle": false,
     "tableResultSettingsMap": {},
     "title": ""
    }
   },
   "source": [
    "## Calculate the spatial distances\n",
    "Finally, we can compare the surface locations. For expediency, we'll only compare wells that are avaliable from all three sources. We use `ST_DISTANCESPHEROID` to calculate the distance (in Meters not degrees) between sets of two points. The output looks something like this:\n",
    "\n",
    "| ... | distance_occ_env | distance_env_sp | distance_occ_sp | ... |\n",
    "| -- | -- | -- | -- | -- |\n",
    "| ... | 11.11 | 22.22 | 33.33 | ... |\n",
    "| ... | 44.44 | 55.55 | 66.66 | ... |\n",
    "\n",
    "...where three `distance_` columns express the difference between all sets of two points."
   ]
  },
  {
   "cell_type": "code",
   "execution_count": 0,
   "metadata": {
    "application/vnd.databricks.v1+cell": {
     "cellMetadata": {
      "byteLimit": 2048000,
      "rowLimit": 10000
     },
     "inputWidgets": {},
     "nuid": "80e62175-b01f-4c5c-a356-9e2999678270",
     "showTitle": false,
     "tableResultSettingsMap": {},
     "title": ""
    }
   },
   "outputs": [],
   "source": [
    "from pyspark.sql.functions import col, when, expr\n",
    "\n",
    "well_header_df = spark.table(\"geodata.gold.well_header\")\n",
    "\n",
    "enverus_well_name = (\n",
    "    well_header_df\n",
    "    .filter(col(\"vendor\") == \"ENV\")\n",
    "    .select(\"uwi_10\", \"well_name\")\n",
    "    .withColumnRenamed(\"well_name\", \"well_name_ENV\")\n",
    ")\n",
    "\n",
    "# Pivot the table wide by vendor:\n",
    "wide_df = (\n",
    "    well_header_df\n",
    "    .groupBy(\"uwi_10\")\n",
    "    .pivot(\"vendor\", [\"ENV\", \"OCC\", \"SP\"])\n",
    "    .agg(expr(\"first(geom)\"))\n",
    "    .withColumnRenamed(\"ENV\", \"geom_ENV\")\n",
    "    .withColumnRenamed(\"OCC\", \"geom_OCC\")\n",
    "    .withColumnRenamed(\"SP\",  \"geom_SP\")\n",
    ")\n",
    "\n",
    "# Compute distances for all available pairs\n",
    "wide_df = wide_df.withColumn(\n",
    "    \"distance_env_occ\",\n",
    "    expr(\"ST_DISTANCESPHEROID(geom_ENV, geom_OCC)\")\n",
    ").withColumn(\n",
    "    \"distance_env_sp\",\n",
    "    expr(\"ST_DISTANCESPHEROID(geom_ENV, geom_SP)\")\n",
    ").withColumn(\n",
    "    \"distance_occ_sp\",\n",
    "    expr(\"ST_DISTANCESPHEROID(geom_OCC, geom_SP)\")\n",
    ")\n",
    "\n",
    "# Filter for at least 2 non-null geoms if desired\n",
    "wide_df = wide_df.filter(\n",
    "    (\n",
    "        (col(\"geom_ENV\").isNotNull() & col(\"geom_OCC\").isNotNull()) |\n",
    "        (col(\"geom_ENV\").isNotNull() & col(\"geom_SP\").isNotNull()) |\n",
    "        (col(\"geom_OCC\").isNotNull() & col(\"geom_SP\").isNotNull())\n",
    "    )\n",
    ")\n",
    "\n",
    "wide_df = wide_df.join(enverus_well_name, on=\"uwi_10\", how=\"left\")\n",
    "\n",
    "\n",
    "#display(wide_df)\n",
    "\n",
    "wide_df.write.format(\"delta\").mode(\"overwrite\").saveAsTable(\"geodata.gold.well_surface_locations\")\n",
    "\n",
    "\n"
   ]
  },
  {
   "cell_type": "code",
   "execution_count": 0,
   "metadata": {
    "application/vnd.databricks.v1+cell": {
     "cellMetadata": {
      "byteLimit": 2048000,
      "implicitDf": true,
      "rowLimit": 10000
     },
     "inputWidgets": {},
     "nuid": "318c8647-44cc-4e31-9286-22aa3841dba5",
     "showTitle": false,
     "tableResultSettingsMap": {},
     "title": ""
    }
   },
   "outputs": [],
   "source": [
    "%sql\n",
    "select * from geodata.gold.well_surface_locations"
   ]
  },
  {
   "cell_type": "markdown",
   "metadata": {
    "application/vnd.databricks.v1+cell": {
     "cellMetadata": {},
     "inputWidgets": {},
     "nuid": "f6063b24-00b5-4f67-95d7-2044d70e87e8",
     "showTitle": false,
     "tableResultSettingsMap": {},
     "title": ""
    }
   },
   "source": [
    "## Filter by the largest variance\n",
    "Using SQL `OR` operator lets us pick all wells where any vendor's Lat/Lon point exceeds a threshold. Switch to the `AND` operator to see where they _really_ don't match.\n",
    "\n",
    "## Which one is correct?\n",
    "Excellent question!\n",
    "\n",
    "* Most newer wells are verified with GPS. These may or may not agree with regulatory agencies or vendors.\n",
    "* Algorithmically defined Latitude/Longitudes based on satellite or aerial photos provide the next-best option. \n",
    "* The oldest well locations are inferred from Township/Range (or something more archaic).\n",
    "\n",
    "In other words, \"correctness\" needs to account for courthouse records, subsurface mineral rights and lawyers. Newer wells generally have more geospatially accurate and agreed-upon location data, but all those varying sources of truth over time can lead to some geospatial confusion."
   ]
  },
  {
   "cell_type": "code",
   "execution_count": 0,
   "metadata": {
    "application/vnd.databricks.v1+cell": {
     "cellMetadata": {
      "byteLimit": 2048000,
      "rowLimit": 10000
     },
     "inputWidgets": {},
     "nuid": "e25fd175-2c49-4ea6-9a24-92f06d9390f6",
     "showTitle": false,
     "tableResultSettingsMap": {},
     "title": ""
    }
   },
   "outputs": [],
   "source": [
    "from pyspark.sql.functions import col\n",
    "\n",
    "df = spark.table(\"geodata.gold.well_surface_locations\")\n",
    "\n",
    "DISTANCE_THRESHOLD = 100\n",
    "\n",
    "# Filter for rows where at least one pairwise distance exceeds the threshold\n",
    "df_filtered = df.filter(\n",
    "    (col(\"distance_env_occ\") > DISTANCE_THRESHOLD) |\n",
    "    (col(\"distance_env_sp\") > DISTANCE_THRESHOLD) |\n",
    "    (col(\"distance_occ_sp\") > DISTANCE_THRESHOLD)\n",
    ")\n",
    "\n",
    "display(df_filtered)"
   ]
  }
 ],
 "metadata": {
  "application/vnd.databricks.v1+notebook": {
   "computePreferences": null,
   "dashboards": [],
   "environmentMetadata": {
    "base_environment": "",
    "environment_version": "2"
   },
   "inputWidgetPreferences": null,
   "language": "python",
   "notebookMetadata": {
    "mostRecentlyExecutedCommandWithImplicitDF": {
     "commandId": 6408204242416873,
     "dataframes": [
      "_sqldf"
     ]
    },
    "pythonIndentUnit": 4
   },
   "notebookName": "gold",
   "widgets": {}
  },
  "language_info": {
   "name": "python"
  }
 },
 "nbformat": 4,
 "nbformat_minor": 0
}