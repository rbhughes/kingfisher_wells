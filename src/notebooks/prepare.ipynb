{
 "cells": [
  {
   "cell_type": "markdown",
   "metadata": {
    "application/vnd.databricks.v1+cell": {
     "cellMetadata": {},
     "inputWidgets": {},
     "nuid": "cb46b819-3d4c-4493-b8a2-42e0a12bb635",
     "showTitle": false,
     "tableResultSettingsMap": {},
     "title": ""
    },
    "vscode": {
     "languageId": "plaintext"
    }
   },
   "source": [
    "[OCC](https://gisdata-occokc.opendata.arcgis.com/)\n",
    "\n",
    "[Enverus](https://www.enverus.com/products/enverus-core/)\n",
    "\n",
    "[S&P Global](https://www.spglobal.com/commodity-insights/en/products-solutions/upstream-midstream-oil-gas)"
   ]
  },
  {
   "cell_type": "code",
   "execution_count": 0,
   "metadata": {
    "application/vnd.databricks.v1+cell": {
     "cellMetadata": {},
     "inputWidgets": {},
     "nuid": "c68505cb-b5b6-4dfb-9291-1de254682a9c",
     "showTitle": false,
     "tableResultSettingsMap": {},
     "title": ""
    }
   },
   "outputs": [],
   "source": [
    "\n",
    "def make_csv_path(county=\"kingfisher\", vendor=\"\"):\n",
    "    catalog  = \"geodata\"\n",
    "    schema   = \"staging\"\n",
    "    volume   = \"raw\"\n",
    "    file     = f\"{county.lower()}_well_header_{vendor.lower()}.csv\"\n",
    "\n",
    "    csv_path = f\"/Volumes/{catalog}/{schema}/{volume}/{file}\"\n",
    "    return csv_path"
   ]
  },
  {
   "cell_type": "code",
   "execution_count": 0,
   "metadata": {
    "application/vnd.databricks.v1+cell": {
     "cellMetadata": {
      "byteLimit": 2048000,
      "rowLimit": 10000
     },
     "inputWidgets": {},
     "nuid": "cf1a4d6d-2d84-46f5-bd14-d39fb55b510d",
     "showTitle": false,
     "tableResultSettingsMap": {},
     "title": ""
    }
   },
   "outputs": [],
   "source": [
    "import requests\n",
    "import pandas as pd\n",
    "\n",
    "\n",
    "OCC_URL = \"https://gis.occ.ok.gov/server/rest/services/Hosted/RBDMS_WELLS/FeatureServer/220/query\"\n",
    "\n",
    "\n",
    "def _query_arcgis(county: str) -> pd.DataFrame | None:\n",
    "    params = {\n",
    "        \"where\": f\"county='{county.upper()}'\",\n",
    "        \"outFields\": \"*\",\n",
    "        \"returnGeometry\": \"false\",\n",
    "        \"f\": \"json\",\n",
    "        \"resultOffset\": 0,\n",
    "        \"resultRecordCount\": 2000,  # 2_000\n",
    "    }\n",
    "\n",
    "    rows = []\n",
    "    while True:\n",
    "        print(f\"Fetching offset {params['resultOffset']} …\")\n",
    "        data = requests.get(OCC_URL, params=params).json()\n",
    "        if data.get(\"error\"):\n",
    "            print(\"Error received from server:\", data[\"error\"])\n",
    "            return None\n",
    "\n",
    "        features = data.get(\"features\", [])\n",
    "        if not features:\n",
    "            break\n",
    "\n",
    "        rows.extend(f[\"attributes\"] for f in features)\n",
    "        if len(features) < params[\"resultRecordCount\"]:\n",
    "            break\n",
    "        params[\"resultOffset\"] += params[\"resultRecordCount\"]\n",
    "\n",
    "    return pd.DataFrame.from_records(rows) if rows else None\n",
    "\n",
    "\n",
    "def get_occ_well_header_by_county(county=\"kingfisher\") -> str | None:\n",
    "    volume_path = make_csv_path(county=county, vendor=\"occ\")\n",
    "\n",
    "    df = _query_arcgis(county)\n",
    "\n",
    "    if df is None or df.empty:\n",
    "        print(f\"⚠ No data found for {county} county.\")\n",
    "        return None\n",
    "\n",
    "    df.to_csv(volume_path, index=False)\n",
    "\n",
    "    return f\"✅ {len(df)} records written to {volume_path}\"\n",
    "\n",
    "\n",
    "result = get_occ_well_header_by_county(county=\"kingfisher\")\n",
    "print(result)"
   ]
  },
  {
   "cell_type": "code",
   "execution_count": 0,
   "metadata": {
    "application/vnd.databricks.v1+cell": {
     "cellMetadata": {
      "byteLimit": 2048000,
      "rowLimit": 10000
     },
     "inputWidgets": {},
     "nuid": "05c83631-ccf5-4998-a1c4-74e32a2f3aa1",
     "showTitle": false,
     "tableResultSettingsMap": {},
     "title": ""
    }
   },
   "outputs": [],
   "source": [
    "%pip install -q enverus-developer-api\n",
    "\n",
    "from enverus_developer_api import DeveloperAPIv3\n",
    "import pandas as pd\n",
    "import json\n",
    "\n",
    "SECRET_KEY = dbutils.secrets.get(scope=\"kingfisher_secrets\", key=\"enverus_secret_key\")\n",
    "STATE = \"OK\"\n",
    "\n",
    "v3 = DeveloperAPIv3(secret_key=SECRET_KEY)\n",
    "\n",
    "def get_enverus_well_header_by_county(county=\"kingfisher\") -> str | None:\n",
    "    volume_path = make_csv_path(county=county, vendor=\"enverus\")\n",
    "\n",
    "    records = []\n",
    "    query = v3.query(\"well-headers\", StateProvince=STATE, County=county.upper())\n",
    "\n",
    "    for i, record in enumerate(query, start=1):\n",
    "        records.append(record)\n",
    "\n",
    "    df = pd.DataFrame.from_records(records)\n",
    "\n",
    "    df.to_csv(volume_path, index=False)\n",
    "    return f\"✅ {len(df)} records written to '{volume_path}\"\n",
    "\n",
    "\n",
    "result = get_enverus_well_header_by_county(county=\"kingfisher\")\n",
    "print(result)"
   ]
  }
 ],
 "metadata": {
  "application/vnd.databricks.v1+notebook": {
   "computePreferences": null,
   "dashboards": [],
   "environmentMetadata": null,
   "inputWidgetPreferences": null,
   "language": "python",
   "notebookMetadata": {
    "pythonIndentUnit": 4
   },
   "notebookName": "prepare",
   "widgets": {}
  },
  "language_info": {
   "name": "python"
  }
 },
 "nbformat": 4,
 "nbformat_minor": 0
}